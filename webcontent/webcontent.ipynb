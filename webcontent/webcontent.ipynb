{
 "cells": [
  {
   "cell_type": "code",
   "execution_count": 1,
   "metadata": {
    "collapsed": true
   },
   "outputs": [],
   "source": [
    "from __future__ import print_function\n",
    "from httplib import HTTP\n",
    "import bs4\n",
    "from collections import Counter\n",
    "import pandas as pd\n",
    "import urllib as url\n",
    "import datetime as dt\n",
    "import urllib2\n",
    "import httplib\n",
    "import requests\n",
    "import string\n",
    "import time\n",
    "import os,sys\n",
    "import csv\n",
    "import re"
   ]
  },
  {
   "cell_type": "code",
   "execution_count": 80,
   "metadata": {
    "collapsed": true
   },
   "outputs": [],
   "source": [
    "url=\"https://www.tokopedia.com/login.pl\""
   ]
  },
  {
   "cell_type": "code",
   "execution_count": 3,
   "metadata": {
    "collapsed": false
   },
   "outputs": [],
   "source": [
    "def opening(url):\n",
    "    html=requests.get(url)\n",
    "    soup=bs4.BeautifulSoup(html.text)\n",
    "    return soup"
   ]
  },
  {
   "cell_type": "code",
   "execution_count": 4,
   "metadata": {
    "collapsed": false
   },
   "outputs": [],
   "source": [
    "def findTokopedia(soup):\n",
    "    return re.findall('([^<]*tokopedia[^>]*)',str(soup))"
   ]
  },
  {
   "cell_type": "code",
   "execution_count": 26,
   "metadata": {
    "collapsed": false
   },
   "outputs": [],
   "source": [
    "def findCss(soup):\n",
    "    allCss = soup.findAll(type='text/css')\n",
    "    return allCss"
   ]
  },
  {
   "cell_type": "code",
   "execution_count": 13,
   "metadata": {
    "collapsed": false
   },
   "outputs": [],
   "source": [
    "def findAllCss(soup):\n",
    "    return re.findall('([^ ]*tokopedia[^>]*\\.css)',str(soup.text))"
   ]
  },
  {
   "cell_type": "code",
   "execution_count": 83,
   "metadata": {
    "collapsed": false
   },
   "outputs": [],
   "source": [
    "def findButton(soup):\n",
    "    allButton = soup.findAll('button')\n",
    "    for i in allButton:\n",
    "        print (i.text)\n",
    "    return allButton"
   ]
  },
  {
   "cell_type": "code",
   "execution_count": 114,
   "metadata": {
    "collapsed": true
   },
   "outputs": [],
   "source": [
    "def findLink (soup):\n",
    "    arrayLink=[]\n",
    "    allLink = soup.findAll('a', href=True)\n",
    "    for i in allLink:\n",
    "        arrayLink.append(i['href'])\n",
    "    return arrayLink"
   ]
  },
  {
   "cell_type": "code",
   "execution_count": 8,
   "metadata": {
    "collapsed": false
   },
   "outputs": [],
   "source": [
    "def findInputField(soup):\n",
    "    inputFields = soup.findAll('input')\n",
    "    passwordFields = soup.findAll('input',type='password')\n",
    "    print (\"password fields count = {}\".format(len(passwordFields)))\n",
    "    textFields = soup.findAll('input',type='text')\n",
    "    print (\"text fields count = {}\".format(len(textFields)))\n",
    "    return inputFields"
   ]
  },
  {
   "cell_type": "code",
   "execution_count": 9,
   "metadata": {
    "collapsed": true
   },
   "outputs": [],
   "source": [
    "def findImage(soup):\n",
    "    return soup.findAll(\"img\")"
   ]
  },
  {
   "cell_type": "code",
   "execution_count": 10,
   "metadata": {
    "collapsed": true
   },
   "outputs": [],
   "source": [
    "def findIcon(soup):\n",
    "    return soup.findAll(\"i\")"
   ]
  },
  {
   "cell_type": "code",
   "execution_count": 162,
   "metadata": {
    "collapsed": false
   },
   "outputs": [],
   "source": [
    "def webContent(url):\n",
    "    soup = opening(url)\n",
    "    \n",
    "    tokopediaFound=False\n",
    "    topedCSS=False\n",
    "    \n",
    "# --- find tokopedia string in html ---\n",
    "    print (\"1. checking tokopedia string in the page html\")\n",
    "    tokopediaString = findTokopedia(soup)\n",
    "    if tokopediaString:\n",
    "        print(\"found tokopedia in html string\")\n",
    "        tokopediaFound=True\n",
    "\n",
    "# --- find CSS ---\n",
    "    print (\"2. checking all css in the page\")\n",
    "    CSS = findCss(soup)\n",
    "    for i in CSS:\n",
    "        try:\n",
    "            if \"tokopedia\" in i['href']:\n",
    "                print (i['href'])\n",
    "                topedCSS=True\n",
    "                print (\"find css related to tokopedia\")\n",
    "        except:\n",
    "            pass\n",
    "\n",
    "# --- find button ---\n",
    "    print (\"3. checking all button in the page\")\n",
    "    button = findButton(soup)\n",
    "    print (button)\n",
    "    \n",
    "# --- find links ---\n",
    "    print (\"4. checking all links in the page\")\n",
    "    links = findLink(soup)\n",
    "    print (links)\n",
    "    \n",
    "# --- find images ---  \n",
    "    print (\"5. checking all images in the page\")\n",
    "    images = findImage(soup)\n",
    "    for i in images:\n",
    "        print (i['alt'] + \" = \" + i['src'])\n",
    "        \n",
    "# --- find icons ---\n",
    "    print (\"6. find all icons in the page\")\n",
    "    icon = findIcon(soup)\n",
    "    for i in icon:\n",
    "        print (i)\n",
    "\n",
    "# --- find input fields ---\n",
    "    print (\"7. find all input fields in the page\")\n",
    "    inputField = findInputField(soup)\n",
    "    print (inputField)\n",
    "    \n",
    "#     return tokopediaFound"
   ]
  },
  {
   "cell_type": "code",
   "execution_count": 163,
   "metadata": {
    "collapsed": false,
    "scrolled": true
   },
   "outputs": [
    {
     "name": "stdout",
     "output_type": "stream",
     "text": [
      "found tokopedia in html string\n",
      "https://ecs7.tokopedia.net/built/assets-201605-aa4419397a721f07963a3d42edfc9555.css\n",
      "find css related to tokopedia\n",
      "   Masuk dengan Facebook\n",
      "   Masuk dengan Google\n",
      "   Masuk dengan Yahoo\n",
      "Masuk ke Tokopedia\n",
      "[<button class=\"btn btn-block btn-facebook mb-10\" type=\"button\"><i class=\"icon-facebook icon-large\"></i>\\xa0\\xa0\\xa0Masuk dengan Facebook</button>, <button class=\"btn btn-block btn-buy mb-10\" type=\"button\"><i class=\"icon-google-plus icon-large\"></i>\\xa0\\xa0\\xa0Masuk dengan Google</button>, <button class=\"btn btn-block btn-yahoo\" type=\"button\"><i class=\"icon-yahoo icon-large\"></i>\\xa0\\xa0\\xa0Masuk dengan Yahoo</button>, <button class=\"btn btn-action mb-20\" type=\"submit\">Masuk ke Tokopedia</button>]\n",
      "['https://www.tokopedia.com/register.pl', 'https://accounts.tokopedia.com/fb-login?ld=&url=', 'https://accounts.tokopedia.com/gplus-login?ld=&url=', 'https://accounts.tokopedia.com/yahoo-login?ld=&url=', 'https://www.tokopedia.com/reset.pl', 'https://www.tokopedia.com', 'https://www.facebook.com/tokopedia', 'http://twitter.com/tokopedia', 'https://plus.google.com/+tokopedia/posts', 'https://instagram.com/tokopedia', 'https://www.tokopedia.com', 'javascript:void(0);']\n",
      "Facebook = https://ecs7.tokopedia.net/img/micrositebeli/scroll/facebook-icon.png\n",
      "Twitter = https://ecs7.tokopedia.net/img/micrositebeli/scroll/twitter-icon.png\n",
      "Google Plus = https://ecs7.tokopedia.net/img/microsite/google-plus.png\n",
      "Instagram = https://ecs7.tokopedia.net/img/microsite/instagram.png\n",
      "Tokopedia = https://ecs7.tokopedia.net/img/micrositebeli/scroll/tokopedia-icon.png\n",
      " = https://d5nxst8fruw4z.cloudfront.net/atrk.gif?account=dGA7f1a4IQ0087\n",
      "<i class=\"icon-notification fs-11\"></i>\n",
      "<i>INFO TERBARU</i>\n",
      "<i class=\"icon-facebook icon-large\"></i>\n",
      "<i class=\"icon-google-plus icon-large\"></i>\n",
      "<i class=\"icon-yahoo icon-large\"></i>\n",
      "<i class=\"icon-message-alt small-gray\"></i>\n",
      "<i class=\"icon-locked small-gray\"></i>\n",
      "<i class=\"icon-remove\"></i>\n",
      "password fields count = 1\n",
      "text fields count = 1\n",
      "[<input autofocus=\"autofocus\" id=\"inputEmail\" name=\"email\" placeholder=\"Email\" type=\"text\" value=\"\"/>, <input autocomplete=\"off\" id=\"inputPassword\" name=\"pwd\" placeholder=\"Kata Sandi\" type=\"password\"/>, <input class=\"icheck\" name=\"remember_me\" type=\"checkbox\"/>]\n"
     ]
    }
   ],
   "source": [
    "webContent(url)"
   ]
  }
 ],
 "metadata": {
  "kernelspec": {
   "display_name": "Python 2",
   "language": "python",
   "name": "python2"
  },
  "language_info": {
   "codemirror_mode": {
    "name": "ipython",
    "version": 2
   },
   "file_extension": ".py",
   "mimetype": "text/x-python",
   "name": "python",
   "nbconvert_exporter": "python",
   "pygments_lexer": "ipython2",
   "version": "2.7.11"
  }
 },
 "nbformat": 4,
 "nbformat_minor": 0
}
