{
 "cells": [
  {
   "cell_type": "code",
   "execution_count": 1,
   "metadata": {
    "collapsed": false
   },
   "outputs": [],
   "source": [
    "import pandas as pd\n",
    "pd.options.display.max_rows = 999\n",
    "import numpy as np\n",
    "import time\n",
    "import datetime as dt\n",
    "import os\n",
    "import re\n",
    "import sys\n",
    "import string\n",
    "\n",
    "#sklearn\n",
    "# from sklearn.cross_validation import train_test_split\n",
    "from sklearn import metrics\n",
    "\n",
    "from custom_transformer import ColumnSelector, ApplyFunction, ColumnTransform, PrintThat\n",
    "import custom_transformer as ct"
   ]
  },
  {
   "cell_type": "code",
   "execution_count": 2,
   "metadata": {
    "collapsed": true
   },
   "outputs": [],
   "source": [
    "dataset=pd.read_csv(\"ticket_all_lev.csv\")"
   ]
  },
  {
   "cell_type": "code",
   "execution_count": 3,
   "metadata": {
    "collapsed": false
   },
   "outputs": [],
   "source": [
    "dataset=dataset[np.isfinite(dataset['tpl_id'])]"
   ]
  },
  {
   "cell_type": "code",
   "execution_count": 4,
   "metadata": {
    "collapsed": false,
    "scrolled": false
   },
   "outputs": [],
   "source": [
    "datasetSorted = dataset.sort_values([\"tpl_id\"],ascending=[1])"
   ]
  },
  {
   "cell_type": "code",
   "execution_count": 5,
   "metadata": {
    "collapsed": false
   },
   "outputs": [],
   "source": [
    "ds_X = datasetSorted.ix[:,[\"ticket_title\",\"ticket_msg\",\"ticket_category\",\"tpl_id\"]]"
   ]
  },
  {
   "cell_type": "code",
   "execution_count": 6,
   "metadata": {
    "collapsed": true
   },
   "outputs": [],
   "source": [
    "ds_y = datasetSorted[\"tpl_id\"]"
   ]
  },
  {
   "cell_type": "code",
   "execution_count": 7,
   "metadata": {
    "collapsed": false
   },
   "outputs": [],
   "source": [
    "XTrain,XTest,yTrain,yTest = ct.train_test_split(ds_X,ds_y,test_size=0.5,random_state=7)"
   ]
  },
  {
   "cell_type": "code",
   "execution_count": null,
   "metadata": {
    "collapsed": false
   },
   "outputs": [],
   "source": [
    "pipe = ct.Pipeline([\n",
    "                (\"features\", ct.FeatureUnion([\n",
    "                            (\"message\", ct.Pipeline([\n",
    "                                        (\"select_text\", ColumnSelector(\"ticket_msg\")),       \n",
    "#                                         (\"debug1\", ct.PrintThat()),\n",
    "                                        (\"preprocessing_input\", ApplyFunction(ct.preprocess_input)),\n",
    "                                        (\"delete_link\", ApplyFunction(ct.clean_link)),\n",
    "                                        (\"clean_text\", ApplyFunction(ct.clean_symbol)),\n",
    "                                        (\"hashing_vectorizer\", ct.HashingVectorizer()),\n",
    "                                    ])\n",
    "                            ),\n",
    "                            (\"title\", ct.Pipeline([\n",
    "                                        (\"select_text\", ColumnSelector(\"ticket_title\")),                                        \n",
    "                                        (\"preprocessing_input\", ApplyFunction(ct.preprocess_input)),\n",
    "                                        (\"take_link\", ApplyFunction(ct.take_link)),\n",
    "                                        (\"clean_link\", ApplyFunction(ct.clean_symbol)),\n",
    "                                        (\"hashing_vectorizer\", ct.HashingVectorizer()),\n",
    "#                                         (\"debug2\", PrintThat())\n",
    "                                    ])\n",
    "                            ),\n",
    "                    \n",
    "                            (\"category\", ColumnSelector(\"ticket_category\")),\n",
    " \n",
    "                        ], transformer_weights={\"message\":1, \"title\":1,\"category\":1})\n",
    "                ),\n",
    "\n",
    "                (\"classifier\", ct.LinearSVC())\n",
    "\n",
    "            ])"
   ]
  },
  {
   "cell_type": "code",
   "execution_count": null,
   "metadata": {
    "collapsed": false
   },
   "outputs": [],
   "source": [
    "start_time = time.time()\n",
    "print type(XTrain)\n",
    "print type(yTrain)\n",
    "\n",
    "pipe.fit(XTrain, yTrain)\n",
    "\n",
    "p_time = time.time() - start_time\n",
    "print(\"predict time is {}\".format(p_time))"
   ]
  },
  {
   "cell_type": "code",
   "execution_count": null,
   "metadata": {
    "collapsed": false
   },
   "outputs": [],
   "source": [
    "y_predict=pipe.predict(XTest)"
   ]
  },
  {
   "cell_type": "code",
   "execution_count": null,
   "metadata": {
    "collapsed": false
   },
   "outputs": [],
   "source": [
    "y_predict"
   ]
  },
  {
   "cell_type": "code",
   "execution_count": null,
   "metadata": {
    "collapsed": false
   },
   "outputs": [],
   "source": [
    "#     cross validation\n",
    "start_time = time.time()\n",
    "cv_score = ct.cross_val_score(pipe, XTrain, yTrain, cv=5)\n",
    "cv_time = time.time() - start_time\n",
    "print(\"predict time is {}\".format(cv_time))\n",
    "\n",
    "print(\"CV accuracy: %0.2f (+/- %0.2f)\" % (cv_score.mean(), cv_score.std() * 2))"
   ]
  },
  {
   "cell_type": "raw",
   "metadata": {},
   "source": []
  }
 ],
 "metadata": {
  "kernelspec": {
   "display_name": "Python 2",
   "language": "python",
   "name": "python2"
  },
  "language_info": {
   "codemirror_mode": {
    "name": "ipython",
    "version": 2
   },
   "file_extension": ".py",
   "mimetype": "text/x-python",
   "name": "python",
   "nbconvert_exporter": "python",
   "pygments_lexer": "ipython2",
   "version": "2.7.11"
  }
 },
 "nbformat": 4,
 "nbformat_minor": 0
}
